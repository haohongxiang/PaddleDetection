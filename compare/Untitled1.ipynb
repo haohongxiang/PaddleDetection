{
 "cells": [
  {
   "cell_type": "code",
   "execution_count": 1,
   "id": "3fea7593",
   "metadata": {
    "execution": {
     "iopub.execute_input": "2022-05-16T07:41:33.285502Z",
     "iopub.status.busy": "2022-05-16T07:41:33.285237Z",
     "iopub.status.idle": "2022-05-16T07:41:33.294873Z",
     "shell.execute_reply": "2022-05-16T07:41:33.294114Z",
     "shell.execute_reply.started": "2022-05-16T07:41:33.285474Z"
    }
   },
   "outputs": [],
   "source": [
    "import os\n",
    "import sys\n",
    "import torch\n",
    "\n",
    "from mmcv import Config, DictAction\n",
    "\n",
    "import mmdet\n",
    "from mmdet.apis import init_detector, train_detector\n",
    "from mmdet.models import build_detector\n",
    "from mmdet.datasets import build_dataset, build_dataloader\n",
    "from mmdet.utils import update_data_root\n",
    "\n",
    "import paddle\n",
    "# paddle.set_device('cpu')"
   ]
  },
  {
   "cell_type": "markdown",
   "id": "a60df52a",
   "metadata": {},
   "source": [
    "# mmdet"
   ]
  },
  {
   "cell_type": "code",
   "execution_count": null,
   "id": "07eb61d3",
   "metadata": {},
   "outputs": [],
   "source": []
  },
  {
   "cell_type": "code",
   "execution_count": 2,
   "id": "93e20c00",
   "metadata": {
    "execution": {
     "iopub.execute_input": "2022-05-16T07:35:49.276560Z",
     "iopub.status.busy": "2022-05-16T07:35:49.276151Z",
     "iopub.status.idle": "2022-05-16T07:35:49.368207Z",
     "shell.execute_reply": "2022-05-16T07:35:49.367391Z",
     "shell.execute_reply.started": "2022-05-16T07:35:49.276490Z"
    }
   },
   "outputs": [
    {
     "name": "stderr",
     "output_type": "stream",
     "text": [
      "/root/paddlejob/workspace/env_run/workspace/anaconda3/lib/python3.8/site-packages/ipykernel/ipkernel.py:287: DeprecationWarning: `should_run_async` will not call `transform_cell` automatically in the future. Please pass the result to `transformed_cell` argument and any exception that happen during thetransform in `preprocessing_exc_tuple` in IPython 7.17 and above.\n",
      "  and should_run_async(code)\n"
     ]
    },
    {
     "name": "stdout",
     "output_type": "stream",
     "text": [
      "apex is not installed\n",
      "apex is not installed\n",
      "############use_abs_pos: False\n",
      "############use_sincos_pos: True\n",
      "############use_rel_pos_bias: False\n",
      "##############patch here!!!\n",
      "##############patch here!!!\n"
     ]
    },
    {
     "name": "stderr",
     "output_type": "stream",
     "text": [
      "/root/paddlejob/workspace/env_run/workspace/anaconda3/lib/python3.8/site-packages/torch/functional.py:568: UserWarning: torch.meshgrid: in an upcoming release, it will be required to pass the indexing argument. (Triggered internally at  ../aten/src/ATen/native/TensorShape.cpp:2228.)\n",
      "  return _VF.meshgrid(tensors, **kwargs)  # type: ignore[attr-defined]\n"
     ]
    },
    {
     "name": "stdout",
     "output_type": "stream",
     "text": [
      "##############self.pos_embed: Parameter containing:\n",
      "tensor([[[ 0.0000,  0.0000,  0.0000,  ...,  0.0000,  0.0000,  0.0000],\n",
      "         [ 0.0000,  0.0000,  0.0000,  ...,  1.0000,  1.0000,  1.0000],\n",
      "         [ 0.0000,  0.0000,  0.0000,  ...,  1.0000,  1.0000,  1.0000],\n",
      "         ...,\n",
      "         [-0.8555,  0.8573, -0.9248,  ...,  1.0000,  1.0000,  1.0000],\n",
      "         [-0.8555,  0.8573, -0.9248,  ...,  1.0000,  1.0000,  1.0000],\n",
      "         [-0.8555,  0.8573, -0.9248,  ...,  1.0000,  1.0000,  1.0000]]])\n",
      "loading annotations into memory...\n",
      "Done (t=0.00s)\n",
      "creating index...\n",
      "index created!\n"
     ]
    }
   ],
   "source": [
    "pytorch_root = '/root/paddlejob/workspace/env_run/workspace/cae_detection'\n",
    "sys.path.insert(0, pytorch_root)\n",
    "sys.path.insert(0, pytorch_root + '/evaluation/object_detection/')\n",
    "import mmcv_custom\n",
    "\n",
    "config_file = pytorch_root + '/evaluation/object_detection/configs/cascade_rcnn/test.py'\n",
    "cfg = Config.fromfile(config_file)\n",
    "update_data_root(cfg)\n",
    "\n",
    "tmodel = build_detector(cfg.model, train_cfg=cfg.get('train_cfg'), test_cfg=cfg.get('test_cfg'))\n",
    "datasets = [build_dataset(cfg.data.train)]\n",
    "\n",
    "train_dataloader_default_args = dict(samples_per_gpu=1, \n",
    "                                     workers_per_gpu=0, \n",
    "                                     num_gpus=1, \n",
    "                                     dist=False, \n",
    "                                     seed=0,\n",
    "                                     persistent_workers=False,\n",
    "                                     shuffle=False)\n",
    "\n",
    "data_loaders = [build_dataloader(ds, **train_dataloader_default_args) for ds in datasets]"
   ]
  },
  {
   "cell_type": "code",
   "execution_count": null,
   "id": "2b20ff5a",
   "metadata": {},
   "outputs": [],
   "source": []
  },
  {
   "cell_type": "code",
   "execution_count": 3,
   "id": "5751d024",
   "metadata": {
    "execution": {
     "iopub.status.busy": "2022-05-16T07:14:26.219823Z",
     "iopub.status.idle": "2022-05-16T07:14:26.220114Z",
     "shell.execute_reply": "2022-05-16T07:14:26.219970Z",
     "shell.execute_reply.started": "2022-05-16T07:14:26.219955Z"
    }
   },
   "outputs": [],
   "source": [
    "# cfg.gpu_ids = ()\n",
    "# cfg.seed = 0\n",
    "# cfg.device = 'cpu'\n",
    "# cfg.work_dir = './'\n",
    "# cfg.batch_size = 1\n",
    "# meta = {}\n",
    "# meta['batch_size'] = 1\n",
    "# train_detector(tmodel, datasets, cfg, distributed=False, validate=False, meta=meta)"
   ]
  },
  {
   "cell_type": "code",
   "execution_count": 13,
   "id": "c4d45e9b",
   "metadata": {
    "execution": {
     "iopub.status.busy": "2022-05-16T07:14:26.221041Z",
     "iopub.status.idle": "2022-05-16T07:14:26.221326Z",
     "shell.execute_reply": "2022-05-16T07:14:26.221188Z",
     "shell.execute_reply.started": "2022-05-16T07:14:26.221173Z"
    }
   },
   "outputs": [
    {
     "name": "stdout",
     "output_type": "stream",
     "text": [
      "torch.Size([1, 3, 384, 640])\n"
     ]
    }
   ],
   "source": [
    "# model.eval()\n",
    "for blob in data_loaders[0]:\n",
    "\n",
    "    print(blob['img'].data[0].shape)\n",
    "    \n",
    "    image = blob['img'].data[0]\n",
    "    img_metas = blob['img_metas'].data[0]\n",
    "    gt_bboxes = blob['gt_bboxes'].data[0]\n",
    "    gt_labels = blob['gt_labels'].data[0]\n",
    "    \n",
    "    # outputs = tmodel.forward_train(image, img_metas, gt_bboxes=gt_bboxes, gt_labels=gt_labels)\n",
    "    # print(outputs)\n",
    "    \n",
    "    break"
   ]
  },
  {
   "cell_type": "code",
   "execution_count": null,
   "id": "63b68f81",
   "metadata": {},
   "outputs": [],
   "source": []
  },
  {
   "cell_type": "markdown",
   "id": "ebb0f91f",
   "metadata": {},
   "source": [
    "# ppdet"
   ]
  },
  {
   "cell_type": "code",
   "execution_count": 5,
   "id": "351ae41e",
   "metadata": {
    "execution": {
     "iopub.status.busy": "2022-05-16T07:14:26.222241Z",
     "iopub.status.idle": "2022-05-16T07:14:26.222561Z",
     "shell.execute_reply": "2022-05-16T07:14:26.222419Z",
     "shell.execute_reply.started": "2022-05-16T07:14:26.222403Z"
    }
   },
   "outputs": [
    {
     "name": "stderr",
     "output_type": "stream",
     "text": [
      "/root/paddlejob/workspace/env_run/workspace/anaconda3/lib/python3.8/site-packages/paddle/tensor/creation.py:125: DeprecationWarning: `np.object` is a deprecated alias for the builtin `object`. To silence this warning, use `object` by itself. Doing this will not modify any behavior and is safe. \n",
      "Deprecated in NumPy 1.20; for more details and guidance: https://numpy.org/devdocs/release/1.20.0-notes.html#deprecations\n",
      "  if data.dtype == np.object:\n",
      "Warning: import ppdet from source directory without installing, run 'python setup.py install' to install ppdet firstly\n"
     ]
    },
    {
     "name": "stdout",
     "output_type": "stream",
     "text": [
      "##############patch here!!!\n"
     ]
    }
   ],
   "source": [
    "paddle_root = '/root/paddlejob/workspace/env_run/workspace/PaddleDetection/'\n",
    "\n",
    "sys.path.insert(0, paddle_root)\n",
    "import paddle\n",
    "from ppdet.core.workspace import load_config, create\n",
    "\n",
    "cfg = load_config(paddle_root + '/configs/vitdet/cascade_rcnn_vit_base_16_hrfpn_coco.yml')\n",
    "\n",
    "pmodel = create(cfg.architecture)"
   ]
  },
  {
   "cell_type": "code",
   "execution_count": null,
   "id": "b60b5e90",
   "metadata": {
    "execution": {
     "iopub.status.busy": "2022-05-16T07:14:26.223583Z",
     "iopub.status.idle": "2022-05-16T07:14:26.223926Z",
     "shell.execute_reply": "2022-05-16T07:14:26.223783Z",
     "shell.execute_reply.started": "2022-05-16T07:14:26.223766Z"
    }
   },
   "outputs": [],
   "source": []
  },
  {
   "cell_type": "code",
   "execution_count": 6,
   "id": "1962464c",
   "metadata": {
    "execution": {
     "iopub.status.busy": "2022-05-16T07:14:26.224892Z",
     "iopub.status.idle": "2022-05-16T07:14:26.225228Z",
     "shell.execute_reply": "2022-05-16T07:14:26.225069Z",
     "shell.execute_reply.started": "2022-05-16T07:14:26.225052Z"
    }
   },
   "outputs": [],
   "source": [
    "# data = paddle.rand([1, 3, 640, 640])\n",
    "# pmodel(data)"
   ]
  },
  {
   "cell_type": "code",
   "execution_count": 7,
   "id": "33f50235",
   "metadata": {
    "execution": {
     "iopub.status.busy": "2022-05-16T07:14:26.226349Z",
     "iopub.status.idle": "2022-05-16T07:14:26.226711Z",
     "shell.execute_reply": "2022-05-16T07:14:26.226546Z",
     "shell.execute_reply.started": "2022-05-16T07:14:26.226529Z"
    }
   },
   "outputs": [],
   "source": [
    "# pmodel.backbone({'image': paddle.to_tensor(image.numpy())})"
   ]
  },
  {
   "cell_type": "markdown",
   "id": "75bf74f9",
   "metadata": {},
   "source": [
    "# compare"
   ]
  },
  {
   "cell_type": "code",
   "execution_count": 8,
   "id": "fe52f413",
   "metadata": {},
   "outputs": [
    {
     "name": "stdout",
     "output_type": "stream",
     "text": [
      "=================pos_embed static ================\n"
     ]
    }
   ],
   "source": [
    "tmodel.train()\n",
    "pmodel.train()"
   ]
  },
  {
   "cell_type": "code",
   "execution_count": null,
   "id": "d98fa1e6",
   "metadata": {},
   "outputs": [],
   "source": []
  },
  {
   "cell_type": "markdown",
   "id": "5983a537",
   "metadata": {},
   "source": [
    "## backbone"
   ]
  },
  {
   "cell_type": "code",
   "execution_count": 9,
   "id": "e93963df",
   "metadata": {
    "execution": {
     "iopub.status.busy": "2022-05-16T07:14:26.227606Z",
     "iopub.status.idle": "2022-05-16T07:14:26.228157Z",
     "shell.execute_reply": "2022-05-16T07:14:26.227983Z",
     "shell.execute_reply.started": "2022-05-16T07:14:26.227965Z"
    }
   },
   "outputs": [
    {
     "data": {
      "text/plain": [
       "_IncompatibleKeys(missing_keys=['pos_embed', 'fpn1.0.weight', 'fpn1.0.bias', 'fpn1.1.weight', 'fpn1.1.bias', 'fpn1.1.running_mean', 'fpn1.1.running_var', 'fpn1.3.weight', 'fpn1.3.bias', 'fpn2.0.weight', 'fpn2.0.bias'], unexpected_keys=[])"
      ]
     },
     "execution_count": 9,
     "metadata": {},
     "output_type": "execute_result"
    }
   ],
   "source": [
    "_t = torch.load('./params/cotr_base_v6.4_ep1600_4self_w2_mask0.5_dp0.1_checkpoint-1599_convert.pth', \n",
    "                map_location='cpu')['model']\n",
    "_tt = {}\n",
    "for k, _ in tmodel.backbone.state_dict().items():\n",
    "    if 'pos_embed' in k:\n",
    "        continue\n",
    "        \n",
    "    if 'cls_token' in k:\n",
    "        _tt[k] = _t['encoder.cls_token']\n",
    "\n",
    "    if 'encoder.' + k in _t:\n",
    "        # print(_t['encoder.' + k].shape)\n",
    "        \n",
    "        _tt[k] = _t['encoder.' + k]\n",
    "tmodel.backbone.load_state_dict(_tt, strict=False)"
   ]
  },
  {
   "cell_type": "code",
   "execution_count": 10,
   "id": "8c125cfc",
   "metadata": {},
   "outputs": [
    {
     "name": "stdout",
     "output_type": "stream",
     "text": [
      "pos_embed torch.Size([1, 2857, 768])\n"
     ]
    }
   ],
   "source": [
    "_state = {}\n",
    "\n",
    "for n, p in tmodel.backbone.state_dict().items():\n",
    "    if n == 'pos_embed':\n",
    "        print(n, p.shape)\n",
    "\n",
    "    _p = p.cpu().data.numpy()\n",
    "    \n",
    "    if len(_p.shape) == 2:\n",
    "        _p = _p.T\n",
    "    \n",
    "    if 'running_mean' in n:\n",
    "        n = n.replace('running_mean', '_mean')\n",
    "        \n",
    "    elif 'running_var' in n :\n",
    "        n = n.replace('running_var', '_variance')\n",
    "    \n",
    "    _state[n] = _p\n",
    "\n",
    "pmodel.backbone.set_state_dict(_state)"
   ]
  },
  {
   "cell_type": "code",
   "execution_count": null,
   "id": "285770ed",
   "metadata": {},
   "outputs": [],
   "source": []
  },
  {
   "cell_type": "code",
   "execution_count": 8,
   "id": "eb61bc39",
   "metadata": {},
   "outputs": [
    {
     "name": "stdout",
     "output_type": "stream",
     "text": [
      "torch.Size([1, 768, 136, 128]) 0.002830827608704567 37846.30859375\n",
      "torch.Size([1, 768, 68, 64]) 0.0002012048353208229 672.494140625\n",
      "torch.Size([1, 768, 34, 32]) 0.3688403367996216 308197.09375\n",
      "torch.Size([1, 768, 17, 16]) 4.228395938873291 883295.0\n"
     ]
    }
   ],
   "source": [
    "for out in tmodel.backbone(image):\n",
    "    print(out.shape, out.mean().item(), out.sum().item())\n"
   ]
  },
  {
   "cell_type": "code",
   "execution_count": 9,
   "id": "fff5e1e8",
   "metadata": {},
   "outputs": [
    {
     "name": "stdout",
     "output_type": "stream",
     "text": [
      "[1, 768, 136, 128] 0.0028308278415352106 37846.3046875\n",
      "[1, 768, 68, 64] 0.00020120537374168634 672.49560546875\n",
      "[1, 768, 34, 32] 0.3688403069972992 308197.0625\n",
      "[1, 768, 17, 16] 4.228392601013184 883294.25\n"
     ]
    }
   ],
   "source": [
    "for out in pmodel.backbone(paddle.to_tensor(image.numpy())):\n",
    "    print(out.shape, out.mean().item(), out.sum().item())\n",
    "    "
   ]
  },
  {
   "cell_type": "markdown",
   "id": "c2540c8b",
   "metadata": {},
   "source": [
    "## neck"
   ]
  },
  {
   "cell_type": "code",
   "execution_count": 14,
   "id": "87b3ea5f",
   "metadata": {},
   "outputs": [],
   "source": [
    "_nect_state = {}\n",
    "keys_dict = {tk: pk for (tk, _), (pk, _) in zip(tmodel.neck.state_dict().items(), pmodel.neck.state_dict().items())}\n",
    "\n",
    "for n, p in tmodel.neck.state_dict().items():\n",
    "\n",
    "    _p = p.cpu().data.numpy()\n",
    "    \n",
    "    if len(_p.shape) == 2:\n",
    "        _p = _p.T\n",
    "    \n",
    "    if 'running_mean' in n:\n",
    "        n = n.replace('running_mean', '_mean')\n",
    "        \n",
    "    elif 'running_var' in n :\n",
    "        n = n.replace('running_var', '_variance')\n",
    "    \n",
    "    _nect_state[keys_dict[n]] = _p\n",
    "    \n",
    "\n",
    "pmodel.neck.set_state_dict(_nect_state)"
   ]
  },
  {
   "cell_type": "code",
   "execution_count": null,
   "id": "da2882b2",
   "metadata": {},
   "outputs": [],
   "source": []
  },
  {
   "cell_type": "code",
   "execution_count": 33,
   "id": "7dde4293",
   "metadata": {},
   "outputs": [
    {
     "name": "stdout",
     "output_type": "stream",
     "text": [
      "torch.Size([1, 256, 96, 160]) -1.7227394580841064 -6774087.0\n",
      "torch.Size([1, 256, 48, 80]) -1.6396870613098145 -1611878.0\n",
      "torch.Size([1, 256, 24, 40]) 3.6008682250976562 884949.375\n",
      "torch.Size([1, 256, 12, 20]) -2.554741859436035 -156963.34375\n",
      "torch.Size([1, 256, 6, 10]) -0.45816871523857117 -7037.4716796875\n"
     ]
    }
   ],
   "source": [
    "for out in tmodel.neck(tmodel.backbone(image)):\n",
    "    print(out.shape, out.mean().item(), out.sum().item())"
   ]
  },
  {
   "cell_type": "code",
   "execution_count": 41,
   "id": "f4671bf9",
   "metadata": {},
   "outputs": [
    {
     "name": "stdout",
     "output_type": "stream",
     "text": [
      "[1, 256, 96, 160] -1.722731113433838 -6774053.5\n",
      "[1, 256, 48, 80] -1.6396894454956055 -1611879.875\n",
      "[1, 256, 24, 40] 3.600874423980713 884950.8125\n",
      "[1, 256, 12, 20] -2.554736614227295 -156963.0\n",
      "[1, 256, 6, 10] -0.45817282795906067 -7037.53515625\n"
     ]
    }
   ],
   "source": [
    "for out in pmodel.neck(pmodel.backbone(paddle.to_tensor(image.numpy()))):\n",
    "    print(out.shape, out.mean().item(), out.sum().item())"
   ]
  },
  {
   "cell_type": "markdown",
   "id": "95ca9aa4",
   "metadata": {},
   "source": [
    "## head"
   ]
  },
  {
   "cell_type": "code",
   "execution_count": null,
   "id": "1e038e5d",
   "metadata": {},
   "outputs": [],
   "source": [
    "# ../anaconda3/lib/python3.8/site-packages/mmdet/core/bbox/samplers/random_sampler.py \n"
   ]
  },
  {
   "cell_type": "code",
   "execution_count": 15,
   "id": "ee689351",
   "metadata": {},
   "outputs": [],
   "source": [
    "_rpn_state = {}\n",
    "keys_dict = {tk: pk for (tk, _), (pk, _) in zip(tmodel.rpn_head.state_dict().items(), \n",
    "                                                pmodel.rpn_head.state_dict().items())}\n",
    "\n",
    "for n, p in tmodel.rpn_head.state_dict().items():\n",
    "\n",
    "    _p = p.cpu().data.numpy()\n",
    "    \n",
    "    if len(_p.shape) == 2:\n",
    "        _p = _p.T\n",
    "    \n",
    "    if 'running_mean' in n:\n",
    "        n = n.replace('running_mean', '_mean')\n",
    "        \n",
    "    elif 'running_var' in n :\n",
    "        n = n.replace('running_var', '_variance')\n",
    "    \n",
    "    _rpn_state[keys_dict[n]] = _p\n",
    "    \n",
    "\n",
    "pmodel.rpn_head.set_state_dict(_rpn_state)"
   ]
  },
  {
   "cell_type": "code",
   "execution_count": null,
   "id": "3345df4f",
   "metadata": {},
   "outputs": [],
   "source": []
  },
  {
   "cell_type": "code",
   "execution_count": 16,
   "id": "f2c44421",
   "metadata": {},
   "outputs": [
    {
     "name": "stdout",
     "output_type": "stream",
     "text": [
      "loading annotations into memory...\n",
      "Done (t=0.00s)\n",
      "creating index...\n",
      "index created!\n",
      "scores:  [7.068381309509277, 0.42118823528289795, 4.982465744018555, 0.7394795417785645, 4.348536014556885]\n",
      "deltas:  [0.28464528918266296, 0.6737475395202637, 2.9798386096954346, -0.01227976381778717, -0.6144100427627563]\n"
     ]
    }
   ],
   "source": [
    "loader = create('TrainReader')(cfg['TrainDataset'], 1)\n",
    "for blob in loader:\n",
    "    # print(blob）\n",
    "    # outputs = pmodel(blob)\n",
    "    pass\n",
    "\n",
    "for out in pmodel.rpn_head(pmodel.neck(pmodel.backbone(paddle.to_tensor(image.numpy()))), blob):\n",
    "    \n",
    "    # print(out)\n",
    "    pass\n",
    "\n",
    "# cls_scores:  [0.729299783706665, -0.26284947991371155, -0.3676391541957855, 0.06244669854640961, 0.2834794223308563]\n",
    "# bbox_preds:  [-0.4813403785228729, -0.0769660621881485, -0.20021234452724457, -0.38275671005249023, -0.2916511595249176]\n"
   ]
  },
  {
   "cell_type": "code",
   "execution_count": 17,
   "id": "b5dc576e",
   "metadata": {},
   "outputs": [
    {
     "name": "stdout",
     "output_type": "stream",
     "text": [
      "rpn_cls_score:  [7.068377494812012]\n",
      "rpn_bbox_pred:  [0.2846430838108063]\n",
      "rpn_cls_score:  [0.42119887471199036]\n",
      "rpn_bbox_pred:  [0.6737399697303772]\n",
      "rpn_cls_score:  [4.98246955871582]\n",
      "rpn_bbox_pred:  [2.979841470718384]\n",
      "rpn_cls_score:  [0.7394887208938599]\n",
      "rpn_bbox_pred:  [-0.012284877710044384]\n",
      "rpn_cls_score:  [4.348540782928467]\n",
      "rpn_bbox_pred:  [-0.6144044399261475]\n",
      "cls_scores:  [7.068377494812012, 0.42119887471199036, 4.98246955871582, 0.7394887208938599, 4.348540782928467]\n",
      "bbox_preds:  [0.2846430838108063, 0.6737399697303772, 2.979841470718384, -0.012284877710044384, -0.6144044399261475]\n",
      "gt_bboxes_ignore:  None\n"
     ]
    },
    {
     "data": {
      "text/plain": [
       "{'loss_rpn_cls': [tensor(15.7684, grad_fn=<MulBackward0>),\n",
       "  tensor(0., grad_fn=<MulBackward0>),\n",
       "  tensor(0.0085, grad_fn=<MulBackward0>),\n",
       "  tensor(0.0878, grad_fn=<MulBackward0>),\n",
       "  tensor(0., grad_fn=<MulBackward0>)],\n",
       " 'loss_rpn_bbox': [tensor(0.4653, grad_fn=<MulBackward0>),\n",
       "  tensor(0., grad_fn=<MulBackward0>),\n",
       "  tensor(0.1480, grad_fn=<MulBackward0>),\n",
       "  tensor(0.6559, grad_fn=<MulBackward0>),\n",
       "  tensor(0., grad_fn=<MulBackward0>)],\n",
       " 's0.loss_cls': tensor(4.5153, grad_fn=<MulBackward0>),\n",
       " 's0.acc': tensor([0.]),\n",
       " 's0.loss_bbox': tensor(0.0518, grad_fn=<MulBackward0>),\n",
       " 's1.loss_cls': tensor(2.2086, grad_fn=<MulBackward0>),\n",
       " 's1.acc': tensor([0.]),\n",
       " 's1.loss_bbox': tensor(0.0021, grad_fn=<MulBackward0>),\n",
       " 's2.loss_cls': tensor(1.0954, grad_fn=<MulBackward0>),\n",
       " 's2.acc': tensor([0.]),\n",
       " 's2.loss_bbox': tensor(0.0005, grad_fn=<MulBackward0>)}"
      ]
     },
     "execution_count": 17,
     "metadata": {},
     "output_type": "execute_result"
    }
   ],
   "source": [
    "# for out in tmodel.neck(tmodel.backbone(image)):\n",
    "#     _score, _bbox = tmodel.rpn_head.forward_single(out)\n",
    "#     print(_score.shape, _score.mean().item(), _score.sum().item())\n",
    "#     print(_bbox.shape, _bbox.mean().item(), _bbox.sum().item())\n",
    "\n",
    "# for _outputs in tmodel.rpn_head.forward_train(tmodel.neck(tmodel.backbone(image)), img_metas=img_metas, gt_bboxes=gt_bboxes, gt_labels=gt_labels,):\n",
    "#     print(_outputs)\n",
    "\n",
    "tmodel.forward_train(image, img_metas, gt_bboxes=gt_bboxes, gt_labels=gt_labels)"
   ]
  },
  {
   "cell_type": "code",
   "execution_count": null,
   "id": "21e5098f",
   "metadata": {},
   "outputs": [],
   "source": []
  },
  {
   "cell_type": "code",
   "execution_count": null,
   "id": "4566c2f0",
   "metadata": {},
   "outputs": [],
   "source": []
  },
  {
   "cell_type": "code",
   "execution_count": 13,
   "id": "e0bd3e3a",
   "metadata": {},
   "outputs": [],
   "source": [
    "_cascade_state = {}\n",
    "\n",
    "for n, p in tmodel.roi_head.state_dict().items():\n",
    "    \n",
    "    if 'num_batches_tracked' in n:\n",
    "        continue\n",
    "        \n",
    "    _p = p.cpu().data.numpy()\n",
    "    \n",
    "    if len(_p.shape) == 2:\n",
    "        _p = _p.T\n",
    "    \n",
    "    if 'fc_cls' in n:\n",
    "        _name = n.split('.')\n",
    "        n = 'bbox_score_stage' + _name[1] + '.' + _name[-1]\n",
    "    \n",
    "    elif 'fc_reg' in n:\n",
    "        _name = n.split('.')\n",
    "        n = 'bbox_delta_stage' + _name[1] + '.' + _name[-1]\n",
    "\n",
    "    elif 'bbox_head' in n and 'convs' in n:\n",
    "        n = n.replace('running_mean', '_mean')\n",
    "        n = n.replace('running_var', '_variance')\n",
    "        bn_conv = 'norm' if 'bn' in n else 'conv'\n",
    "        _name = n.split('.')\n",
    "        n = 'head.{0}.stage{0}_bbox_head_conv{1}.{2}.{3}'.format(_name[1], _name[3], bn_conv, _name[-1])\n",
    "\n",
    "    elif 'bbox_head' in n and 'fcs' in n:\n",
    "        _name = n.split('.')\n",
    "        n = 'head.{}.fc6.{}'.format(_name[1], _name[-1])\n",
    "\n",
    "    else:\n",
    "        print(n)\n",
    "        \n",
    "\n",
    "    _cascade_state[n] = _p\n",
    "    \n",
    "    \n",
    "pmodel.rpn_head.set_state_dict(_cascade_state)"
   ]
  },
  {
   "cell_type": "code",
   "execution_count": 13,
   "id": "627daf99",
   "metadata": {},
   "outputs": [],
   "source": [
    "# [n for n, p in pmodel.bbox_head.state_dict().items()]"
   ]
  },
  {
   "cell_type": "code",
   "execution_count": 14,
   "id": "6b5d50ea",
   "metadata": {},
   "outputs": [],
   "source": [
    "# [n for n, p in tmodel.roi_head.state_dict().items()]"
   ]
  },
  {
   "cell_type": "code",
   "execution_count": 20,
   "id": "2e06fed2",
   "metadata": {},
   "outputs": [
    {
     "name": "stdout",
     "output_type": "stream",
     "text": [
      "tensor([[[[2.2489, 2.2489, 2.2489,  ..., 2.2489, 2.2489, 2.2489],\n",
      "          [2.2489, 2.2489, 2.2489,  ..., 2.2489, 2.2489, 2.2489],\n",
      "          [2.2489, 2.2489, 2.2489,  ..., 2.2489, 2.2489, 2.2489],\n",
      "          ...,\n",
      "          [0.0000, 0.0000, 0.0000,  ..., 0.0000, 0.0000, 0.0000],\n",
      "          [0.0000, 0.0000, 0.0000,  ..., 0.0000, 0.0000, 0.0000],\n",
      "          [0.0000, 0.0000, 0.0000,  ..., 0.0000, 0.0000, 0.0000]],\n",
      "\n",
      "         [[2.4286, 2.4286, 2.4286,  ..., 2.4286, 2.4286, 2.4286],\n",
      "          [2.4286, 2.4286, 2.4286,  ..., 2.4286, 2.4286, 2.4286],\n",
      "          [2.4286, 2.4286, 2.4286,  ..., 2.4286, 2.4286, 2.4286],\n",
      "          ...,\n",
      "          [0.0000, 0.0000, 0.0000,  ..., 0.0000, 0.0000, 0.0000],\n",
      "          [0.0000, 0.0000, 0.0000,  ..., 0.0000, 0.0000, 0.0000],\n",
      "          [0.0000, 0.0000, 0.0000,  ..., 0.0000, 0.0000, 0.0000]],\n",
      "\n",
      "         [[2.6400, 2.6400, 2.6400,  ..., 2.6400, 2.6400, 2.6400],\n",
      "          [2.6400, 2.6400, 2.6400,  ..., 2.6400, 2.6400, 2.6400],\n",
      "          [2.6400, 2.6400, 2.6400,  ..., 2.6400, 2.6400, 2.6400],\n",
      "          ...,\n",
      "          [0.0000, 0.0000, 0.0000,  ..., 0.0000, 0.0000, 0.0000],\n",
      "          [0.0000, 0.0000, 0.0000,  ..., 0.0000, 0.0000, 0.0000],\n",
      "          [0.0000, 0.0000, 0.0000,  ..., 0.0000, 0.0000, 0.0000]]]]) [{'filename': '/root/paddlejob/workspace/env_run/workspace/dataset/coco/train2017/000000391895.jpg', 'ori_filename': '000000391895.jpg', 'ori_shape': (360, 640, 3), 'img_shape': (360, 640, 3), 'pad_shape': (384, 640, 3), 'scale_factor': 1.0, 'flip': False, 'flip_direction': None, 'img_norm_cfg': {'mean': array([123.675, 116.28 , 103.53 ], dtype=float32), 'std': array([58.395, 57.12 , 57.375], dtype=float32), 'to_rgb': True}}] [tensor([[359.1700, 146.1700, 471.6200, 359.7400],\n",
      "        [339.8800,  22.1600, 493.7600, 322.8900],\n",
      "        [471.6400, 172.8200, 507.5600, 220.9200],\n",
      "        [486.0100, 183.3100, 516.6400, 218.2900]])] [tensor([3, 0, 0, 1])]\n",
      "{'loss_rpn_cls': [tensor(3.4091, grad_fn=<MulBackward0>), tensor(0., grad_fn=<MulBackward0>), tensor(6.7257e-05, grad_fn=<MulBackward0>), tensor(0.0225, grad_fn=<MulBackward0>), tensor(0., grad_fn=<MulBackward0>)], 'loss_rpn_bbox': [tensor(0.5447, grad_fn=<MulBackward0>), tensor(0., grad_fn=<MulBackward0>), tensor(0.3959, grad_fn=<MulBackward0>), tensor(0.4070, grad_fn=<MulBackward0>), tensor(0., grad_fn=<MulBackward0>)], 's0.loss_cls': tensor(4.3471, grad_fn=<MulBackward0>), 's0.acc': tensor([0.1953]), 's0.loss_bbox': tensor(0.0276, grad_fn=<MulBackward0>), 's1.loss_cls': tensor(2.1923, grad_fn=<MulBackward0>), 's1.acc': tensor([0.]), 's1.loss_bbox': tensor(0.0015, grad_fn=<MulBackward0>), 's2.loss_cls': tensor(1.0848, grad_fn=<MulBackward0>), 's2.acc': tensor([0.]), 's2.loss_bbox': tensor(0.0004, grad_fn=<MulBackward0>)}\n"
     ]
    }
   ],
   "source": [
    "print(image, img_metas, gt_bboxes, gt_labels)\n",
    "\n",
    "outputs = tmodel.forward_train(image, img_metas, gt_bboxes=gt_bboxes, gt_labels=gt_labels)\n",
    "print(outputs)\n",
    "# print({k: v.item() for k, v in outputs.items()})"
   ]
  },
  {
   "cell_type": "code",
   "execution_count": 17,
   "id": "03146d7e",
   "metadata": {},
   "outputs": [
    {
     "name": "stdout",
     "output_type": "stream",
     "text": [
      "loading annotations into memory...\n",
      "Done (t=0.00s)\n",
      "creating index...\n",
      "index created!\n",
      "{'im_id': Tensor(shape=[1, 1], dtype=int64, place=Place(gpu_pinned), stop_gradient=True,\n",
      "       [[391895]]), 'is_crowd': [Tensor(shape=[4, 1], dtype=int32, place=Place(gpu_pinned), stop_gradient=True,\n",
      "       [[0],\n",
      "        [0],\n",
      "        [0],\n",
      "        [0]])], 'gt_class': [Tensor(shape=[4, 1], dtype=int32, place=Place(gpu_pinned), stop_gradient=True,\n",
      "       [[3],\n",
      "        [0],\n",
      "        [0],\n",
      "        [1]])], 'gt_bbox': [Tensor(shape=[4, 4], dtype=float32, place=Place(gpu_pinned), stop_gradient=True,\n",
      "       [[359.17001343, 146.16999817, 471.61999512, 359.73999023],\n",
      "        [339.88000488, 22.15999985 , 493.76000977, 322.89001465],\n",
      "        [471.64001465, 172.82000732, 507.55999756, 220.91999817],\n",
      "        [486.01000977, 183.30999756, 516.64001465, 218.28999329]])], 'curr_iter': Tensor(shape=[1], dtype=int64, place=Place(gpu_pinned), stop_gradient=True,\n",
      "       [0]), 'image': Tensor(shape=[1, 3, 384, 640], dtype=float32, place=Place(gpu_pinned), stop_gradient=True,\n",
      "       [[[[2.24890828, 2.24890828, 2.24890828, ..., 2.24890828,\n",
      "           2.24890828, 2.24890828],\n",
      "          [2.24890828, 2.24890828, 2.24890828, ..., 2.24890828,\n",
      "           2.24890828, 2.24890828],\n",
      "          [2.24890828, 2.24890828, 2.24890828, ..., 2.24890828,\n",
      "           2.24890828, 2.24890828],\n",
      "          ...,\n",
      "          [0.        , 0.        , 0.        , ..., 0.        ,\n",
      "           0.        , 0.        ],\n",
      "          [0.        , 0.        , 0.        , ..., 0.        ,\n",
      "           0.        , 0.        ],\n",
      "          [0.        , 0.        , 0.        , ..., 0.        ,\n",
      "           0.        , 0.        ]],\n",
      "\n",
      "         [[2.42857146, 2.42857146, 2.42857146, ..., 2.42857146,\n",
      "           2.42857146, 2.42857146],\n",
      "          [2.42857146, 2.42857146, 2.42857146, ..., 2.42857146,\n",
      "           2.42857146, 2.42857146],\n",
      "          [2.42857146, 2.42857146, 2.42857146, ..., 2.42857146,\n",
      "           2.42857146, 2.42857146],\n",
      "          ...,\n",
      "          [0.        , 0.        , 0.        , ..., 0.        ,\n",
      "           0.        , 0.        ],\n",
      "          [0.        , 0.        , 0.        , ..., 0.        ,\n",
      "           0.        , 0.        ],\n",
      "          [0.        , 0.        , 0.        , ..., 0.        ,\n",
      "           0.        , 0.        ]],\n",
      "\n",
      "         [[2.63999987, 2.63999987, 2.63999987, ..., 2.63999987,\n",
      "           2.63999987, 2.63999987],\n",
      "          [2.63999987, 2.63999987, 2.63999987, ..., 2.63999987,\n",
      "           2.63999987, 2.63999987],\n",
      "          [2.63999987, 2.63999987, 2.63999987, ..., 2.63999987,\n",
      "           2.63999987, 2.63999987],\n",
      "          ...,\n",
      "          [0.        , 0.        , 0.        , ..., 0.        ,\n",
      "           0.        , 0.        ],\n",
      "          [0.        , 0.        , 0.        , ..., 0.        ,\n",
      "           0.        , 0.        ],\n",
      "          [0.        , 0.        , 0.        , ..., 0.        ,\n",
      "           0.        , 0.        ]]]]), 'im_shape': Tensor(shape=[1, 2], dtype=float32, place=Place(gpu_pinned), stop_gradient=True,\n",
      "       [[360., 640.]]), 'scale_factor': Tensor(shape=[1, 2], dtype=float32, place=Place(gpu_pinned), stop_gradient=True,\n",
      "       [[1., 1.]])}\n",
      "{'loss_rpn_cls': 2.8681631088256836, 'loss_rpn_reg': 1.2486590147018433, 'loss_bbox_cls_stage0': 4.179653644561768, 'loss_bbox_reg_stage0': 0.060160212218761444, 'loss_bbox_cls_stage1': 2.176955223083496, 'loss_bbox_reg_stage1': 0.04932459443807602, 'loss_bbox_cls_stage2': 1.1372833251953125, 'loss_bbox_reg_stage2': 0.032141171395778656, 'loss': 11.752341270446777}\n"
     ]
    }
   ],
   "source": [
    "loader = create('TrainReader')(cfg['TrainDataset'], 1)\n",
    "for blob in loader:\n",
    "    print(blob)\n",
    "    \n",
    "    outputs = pmodel(blob)\n",
    "\n",
    "    print({k: v.item() for k, v in outputs.items()})"
   ]
  },
  {
   "cell_type": "code",
   "execution_count": null,
   "id": "dcb266fc",
   "metadata": {},
   "outputs": [],
   "source": [
    "# for (tk, tp), (pk, pp) in zip(tmodel.state_dict().items(), pmodel.state_dict().items()):\n",
    "#     if 'num_batches_tracked' in tk:\n",
    "#         continue\n",
    "        \n",
    "#     print(tk, tp.mean().item(),)\n",
    "#     print(pk, pp.mean().item(),)\n"
   ]
  },
  {
   "cell_type": "code",
   "execution_count": null,
   "id": "db889be7",
   "metadata": {},
   "outputs": [],
   "source": [
    "tensor(3.4091, grad_fn=<MulBackward0>), tensor(0., grad_fn=<MulBackward0>), tensor(6.7257e-05, grad_fn=<MulBackward0>), tensor(0.0225, grad_fn=<MulBackward0>)"
   ]
  },
  {
   "cell_type": "code",
   "execution_count": 16,
   "id": "c9927b7e",
   "metadata": {},
   "outputs": [
    {
     "data": {
      "text/plain": [
       "3.4325"
      ]
     },
     "execution_count": 16,
     "metadata": {},
     "output_type": "execute_result"
    }
   ],
   "source": [
    "3.41 + 0.0225"
   ]
  },
  {
   "cell_type": "code",
   "execution_count": 21,
   "id": "c10daae6",
   "metadata": {},
   "outputs": [
    {
     "data": {
      "text/plain": [
       "1.3476"
      ]
     },
     "execution_count": 21,
     "metadata": {},
     "output_type": "execute_result"
    }
   ],
   "source": [
    "0.5447 +0.3959+ 0.4070"
   ]
  },
  {
   "cell_type": "code",
   "execution_count": null,
   "id": "9a98ab1a",
   "metadata": {},
   "outputs": [],
   "source": []
  }
 ],
 "metadata": {
  "kernelspec": {
   "display_name": "Python 3",
   "language": "python",
   "name": "python3"
  },
  "language_info": {
   "codemirror_mode": {
    "name": "ipython",
    "version": 3
   },
   "file_extension": ".py",
   "mimetype": "text/x-python",
   "name": "python",
   "nbconvert_exporter": "python",
   "pygments_lexer": "ipython3",
   "version": "3.8.8"
  }
 },
 "nbformat": 4,
 "nbformat_minor": 5
}
