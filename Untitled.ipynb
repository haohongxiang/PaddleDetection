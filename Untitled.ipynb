{
 "cells": [
  {
   "cell_type": "code",
   "execution_count": 2,
   "source": [
    "import paddle\n",
    "from ppdet.core.workspace import load_config, create"
   ],
   "outputs": [],
   "metadata": {}
  },
  {
   "cell_type": "code",
   "execution_count": null,
   "source": [
    "cfg = load_config('./configs/faster_rcnn/vit_base_16_faster_rcnn.yml')\n",
    "model = create(cfg.architecture)"
   ],
   "outputs": [],
   "metadata": {}
  },
  {
   "cell_type": "code",
   "execution_count": null,
   "source": [
    "import torch\n",
    "state = torch.load('../params/pretrain_mae_vit_base_mask_0.75_400e.pth', map_location='cpu')['model']\n",
    "\n",
    "state = {k.strip('encoder.'): v for k, v in state.items() if 'encoder' in k}\n",
    "\n",
    "_state = {}\n",
    "for n, p in model.backbone.state_dict().items():\n",
    "    if n in state:\n",
    "        if len(p.shape) == 2:\n",
    "            _state[n] = state[n].data.numpy().T\n",
    "        else:\n",
    "            _state[n] = state[n].data.numpy()\n",
    "\n",
    "            \n",
    "model.backbone.set_state_dict(_state)\n",
    "\n",
    "paddle.save(_state, '../params/pretrain_mae_vit_base_mask_0.75_400e.params')"
   ],
   "outputs": [],
   "metadata": {}
  },
  {
   "cell_type": "code",
   "execution_count": null,
   "source": [
    "import torch\n",
    "state = torch.load('../params/pretrain_mae_vit_base_mask_0.75_400e.pth', map_location='cpu')\n",
    "\n",
    "for k, v  in state['model'].items():\n",
    "#     if 'encoder' in k:\n",
    "#         print(k.strip('encoder.'), v.shape)\n",
    "    print(k)"
   ],
   "outputs": [],
   "metadata": {}
  }
 ],
 "metadata": {
  "orig_nbformat": 4,
  "language_info": {
   "name": "python",
   "version": "3.8.8",
   "mimetype": "text/x-python",
   "codemirror_mode": {
    "name": "ipython",
    "version": 3
   },
   "pygments_lexer": "ipython3",
   "nbconvert_exporter": "python",
   "file_extension": ".py"
  },
  "kernelspec": {
   "name": "python3",
   "display_name": "Python 3.8.8 64-bit ('base': conda)"
  },
  "interpreter": {
   "hash": "dca0ade3e726a953b501b15e8e990130d2b7799f14cfd9f4271676035ebe5511"
  }
 },
 "nbformat": 4,
 "nbformat_minor": 2
}